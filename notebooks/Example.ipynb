{
 "cells": [
  {
   "cell_type": "code",
   "execution_count": null,
   "id": "a6e3ceb9",
   "metadata": {},
   "outputs": [],
   "source": [
    "!git clone https://github.com/eliaslimmer/simple-NN-in-numpy.git\n",
    "!import sys\n",
    "!sys.path.append(\"/content/simple-NN-in-numpy\")"
   ]
  },
  {
   "cell_type": "code",
   "execution_count": null,
   "id": "59cc72cf",
   "metadata": {},
   "outputs": [],
   "source": [
    "import numpy as np"
   ]
  },
  {
   "cell_type": "code",
   "execution_count": null,
   "id": "84f167f8",
   "metadata": {},
   "outputs": [],
   "source": [
    "from model.neural_net import Neural_Network\n",
    "from utils.train import train\n",
    "from utils.logger import TrainingLogger\n",
    "from utils.metrics import cross_entropy_loss, accuracy"
   ]
  },
  {
   "cell_type": "markdown",
   "id": "f8a7b19b",
   "metadata": {},
   "source": [
    "## Download dataset\n",
    "\n",
    "I'll be using the MNIST dataset here."
   ]
  },
  {
   "cell_type": "code",
   "execution_count": null,
   "id": "8f44c97a",
   "metadata": {},
   "outputs": [],
   "source": [
    "from keras.datasets import mnist\n",
    "\n",
    "(x_train, y_train), (x_test, y_test) = mnist.load_data()"
   ]
  },
  {
   "cell_type": "markdown",
   "id": "d8d3fcac",
   "metadata": {},
   "source": [
    "some examples:"
   ]
  },
  {
   "cell_type": "code",
   "execution_count": null,
   "id": "01d4e7e6",
   "metadata": {},
   "outputs": [],
   "source": [
    "for i, (img, y) in enumerate(zip(X[:5].reshape(5, 28, 28), y[:5])):\n",
    "    plt.subplot(151 + i)\n",
    "    plt.imshow(img)\n",
    "    plt.xticks([])\n",
    "    plt.yticks([])\n",
    "    plt.title(y)"
   ]
  },
  {
   "cell_type": "code",
   "execution_count": null,
   "id": "250098de",
   "metadata": {},
   "outputs": [],
   "source": [
    "x_train.shape"
   ]
  },
  {
   "cell_type": "code",
   "execution_count": null,
   "id": "35ddaf60",
   "metadata": {},
   "outputs": [],
   "source": [
    "X_train = x_train.reshape(60000, -1).T / 255.0"
   ]
  },
  {
   "cell_type": "code",
   "execution_count": null,
   "id": "2888b3f6",
   "metadata": {},
   "outputs": [],
   "source": [
    "Y_train = np.zeros((10, y_train.size))\n",
    "Y_train[y_train, np.arange(y_train.size)] = 1"
   ]
  },
  {
   "cell_type": "code",
   "execution_count": null,
   "id": "f0558259",
   "metadata": {},
   "outputs": [],
   "source": [
    "X_test = x_test.reshape(10000, -1).T / 255.0\n",
    "\n",
    "Y_test = np.zeros((10, y_test.size))\n",
    "Y_test[y_test, np.arange(y_test.size)] = 1"
   ]
  },
  {
   "cell_type": "markdown",
   "id": "dabf5a49",
   "metadata": {},
   "source": [
    "## Training"
   ]
  },
  {
   "cell_type": "code",
   "execution_count": null,
   "id": "5dbb8cdf",
   "metadata": {},
   "outputs": [],
   "source": [
    "network = Neural_Network(input_layer_size=784, output_layer_size=10, hidden_layer_size=256)\n",
    "logger = TrainingLogger()"
   ]
  },
  {
   "cell_type": "code",
   "execution_count": null,
   "id": "2bde8545",
   "metadata": {},
   "outputs": [],
   "source": [
    "train(network, X_train, Y_train, X_test, Y_test, logger, epochs=10, log_every=1)"
   ]
  },
  {
   "cell_type": "markdown",
   "id": "0947ae2b",
   "metadata": {},
   "source": [
    "## Evaluation"
   ]
  },
  {
   "cell_type": "code",
   "execution_count": null,
   "id": "a7fe52a6",
   "metadata": {},
   "outputs": [],
   "source": [
    "logger.plot_accuracies()"
   ]
  },
  {
   "cell_type": "markdown",
   "id": "fd99eefa",
   "metadata": {},
   "source": [
    "plot some of the misclassified numbers:"
   ]
  },
  {
   "cell_type": "code",
   "execution_count": null,
   "id": "3da5e46a",
   "metadata": {},
   "outputs": [],
   "source": [
    "total = 20\n",
    "\n",
    "misclassified = []\n",
    "\n",
    "for i in range(A2_test.shape[1]):\n",
    "  pred = np.argmax(A2_test[:, i])\n",
    "  true = y_test[i]\n",
    "\n",
    "  if pred != true:\n",
    "    img = x_test[i].reshape(28, 28)\n",
    "    misclassified.append((img, pred, true))\n",
    "\n",
    "    if len(misclassified) == total:\n",
    "      break\n",
    "\n",
    "cols = 5\n",
    "rows = total // cols + (total % cols > 0)\n",
    "fig, axes = plt.subplots(rows, cols, figsize=(10, 6))\n",
    "\n",
    "for idx, (img, pred, true) in enumerate(misclassified):\n",
    "    ax = axes[idx // cols, idx % cols]\n",
    "    ax.imshow(img)\n",
    "    ax.set_title(f\"P: {pred}, T: {true}\")\n",
    "    ax.axis('off')\n",
    "\n",
    "# Hide any unused subplots\n",
    "for j in range(len(misclassified), rows * cols):\n",
    "    fig.delaxes(axes[j // cols, j % cols])\n",
    "\n",
    "plt.tight_layout()\n",
    "plt.show()"
   ]
  }
 ],
 "metadata": {
  "kernelspec": {
   "display_name": "Python 3",
   "language": "python",
   "name": "python3"
  },
  "language_info": {
   "codemirror_mode": {
    "name": "ipython",
    "version": 3
   },
   "file_extension": ".py",
   "mimetype": "text/x-python",
   "name": "python",
   "nbconvert_exporter": "python",
   "pygments_lexer": "ipython3",
   "version": "3.9.6"
  }
 },
 "nbformat": 4,
 "nbformat_minor": 5
}
